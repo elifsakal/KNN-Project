{
 "cells": [
  {
   "cell_type": "code",
   "execution_count": 13,
   "id": "1b5a4f9d",
   "metadata": {},
   "outputs": [],
   "source": [
    "import numpy as np\n",
    "import matplotlib.pyplot as plt"
   ]
  },
  {
   "cell_type": "code",
   "execution_count": 14,
   "id": "651fd1d9",
   "metadata": {},
   "outputs": [],
   "source": [
    "%matplotlib inline"
   ]
  },
  {
   "cell_type": "markdown",
   "id": "2636c0a2",
   "metadata": {},
   "source": [
    "### Verileri Tanımla"
   ]
  },
  {
   "cell_type": "code",
   "execution_count": 15,
   "id": "ad969a9a",
   "metadata": {},
   "outputs": [],
   "source": [
    "\n",
    "# Giriş Verileri - [Fınal, GNO]\n",
    "X = [[90,2.9], [80,2.7], [100,2.6], [90,2.7], [78,2.5], [80,2.4], [85,2.3], [72,2.3], [76,2.4],\n",
    "     [40,3.9], [45,3.7], [48,3.8], [50,3.7], [53,3.6], [55,3.9], [60,3.4], [71,3.7], [70,3.2],\n",
    "     [90,3.9], [80,3.7], [100,3.6], [72,3.7], [78,3.5], [80,3.4], [85,3.3], [70,3.3], [76,3.4],\n",
    "     [30,2.9], [45,2.4], [25,2.5], [50,2.6], [14,2.1], [25,2.5], [23,2.7], [53,2.1], [22,2.5],\n",
    "     [70,2.7], [75,2.9], [21,3.5], [25,3.6], [52,2.7], [21,3.1], [40,3.1], [45,2.9], [22,3.9], \n",
    "     [60,3.0], [65,2.3], [65,2.5], [50,2.1], [60,2.1], [52,2.5], [55,2.3], [23,2.1], [40,2.0]]\n",
    "\n",
    "# Etiket - Olumlu/Olumsuz\n",
    "Y = ['olumlu','olumlu','olumlu','olumlu','olumlu','olumlu','olumlu','olumlu','olumlu',\n",
    "     'olumlu','olumlu','olumlu','olumlu','olumlu','olumlu','olumlu','olumlu','olumlu',\n",
    "     'olumlu','olumlu','olumlu','olumlu','olumlu','olumlu','olumlu','olumlu','olumlu',\n",
    "     'olumsuz','olumsuz','olumsuz','olumsuz','olumsuz','olumsuz','olumsuz','olumsuz','olumsuz',\n",
    "     'olumsuz','olumsuz','olumsuz','olumsuz','olumsuz','olumsuz','olumsuz','olumsuz','olumsuz',\n",
    "     'olumsuz','olumsuz','olumsuz','olumsuz','olumsuz','olumsuz','olumsuz','olumsuz','olumsuz']"
   ]
  },
  {
   "cell_type": "markdown",
   "id": "310b7412",
   "metadata": {},
   "source": [
    "### Verileri 2 Boyutlu Bir Grafiğe Çiz"
   ]
  },
  {
   "cell_type": "markdown",
   "id": "1417996c",
   "metadata": {},
   "source": [
    "for i in range(len(X)):\n",
    "    if Y[i] == 'olumlu':\n",
    "        plt.scatter(X[i][0], X[i][1], s=120, marker='P', linewidths=2, color='pink')\n",
    "    else:\n",
    "        plt.scatter(X[i][0], X[i][1], s=120, marker='P', linewidths=2, color='blue')\n",
    "        \n",
    "plt.plot()"
   ]
  },
  {
   "cell_type": "markdown",
   "id": "3b4f54a8",
   "metadata": {},
   "source": [
    "## Yardımcı Fonksiyon"
   ]
  },
  {
   "cell_type": "code",
   "execution_count": 16,
   "id": "d8ec478d",
   "metadata": {},
   "outputs": [],
   "source": [
    "# Değişken dizisinde hangi değişkenin en çok olduğunu buluyoruz.\n",
    "def most_found(array):\n",
    "    list_of_words = []\n",
    "    for i in range(len(array)):\n",
    "        if array[i] not in list_of_words:\n",
    "            list_of_words.append(array[i])\n",
    "            \n",
    "    most_counted = ''\n",
    "    n_of_most_counted = None\n",
    "    \n",
    "    for i in range(len(list_of_words)):\n",
    "        counted = array.count(list_of_words[i])\n",
    "        if n_of_most_counted == None:\n",
    "            most_counted = list_of_words[i]\n",
    "            n_of_most_counted = counted\n",
    "        elif n_of_most_counted < counted:\n",
    "            most_counted = list_of_words[i]\n",
    "            n_of_most_counted = counted\n",
    "        elif n_of_most_counted == counted:\n",
    "            most_counted = None\n",
    "            \n",
    "    return most_counted"
   ]
  },
  {
   "cell_type": "markdown",
   "id": "edd46112",
   "metadata": {},
   "source": [
    "## KNN Algoritması\n",
    "Her noktanın yeni noktaya olan öklid mesafesini hesapladım ve en yakın k noktanın etiketlerini buldum.\n",
    "\n",
    "Öklid Mesafesi\n",
    "her boyuttaki iki nokta arasındaki uzaklığın karelerinin toplamının karekökü.\n",
    "\n",
    "Pisagor teoremi: a^2 + b^2 = c^2"
   ]
  },
  {
   "cell_type": "code",
   "execution_count": 17,
   "id": "f2ab14ba",
   "metadata": {},
   "outputs": [],
   "source": [
    "def find_neighbors(point, data, labels, k=3):\n",
    "    # Kaç boyut var?\n",
    "    n_of_dimensions = len(point)\n",
    "    \n",
    "    # nearest Neighbors buluyoruz.\n",
    "    neighbors = []\n",
    "    neighbor_labels = []\n",
    "    \n",
    "    for i in range(0, k):\n",
    "        # daha sonra verilerde bulmak için sırasını alıyoruz\n",
    "        nearest_neighbor_id = None\n",
    "        smallest_distance = None\n",
    "        \n",
    "        for i in range(0, len(data)):\n",
    "            eucledian_dist = 0\n",
    "            for d in range(0, n_of_dimensions):\n",
    "                dist = abs(point[d] - data[i][d])\n",
    "                eucledian_dist += dist\n",
    "                \n",
    "            eucledian_dist = np.sqrt(eucledian_dist)\n",
    "            \n",
    "            if smallest_distance == None:\n",
    "                smallest_distance = eucledian_dist\n",
    "                nearest_neighbor_id = i\n",
    "            elif smallest_distance > eucledian_dist:\n",
    "                smallest_distance = eucledian_dist\n",
    "                nearest_neighbor_id = i\n",
    "                \n",
    "        neighbors.append(data[nearest_neighbor_id])\n",
    "        neighbor_labels.append(labels[nearest_neighbor_id])\n",
    "        \n",
    "        data.remove(data[nearest_neighbor_id])\n",
    "        labels.remove(labels[nearest_neighbor_id])\n",
    "    return neighbor_labels\n",
    "\n",
    "def k_nearest_neighbor(point, data, labels, k=3):\n",
    "    \n",
    "    # en çok 2 farklı etiket bulunursa bir k daha aramaya devam edilir.\n",
    "    while True:\n",
    "        neighbor_labels = find_neighbors(point, data, labels, k=k)\n",
    "        label = most_found(neighbor_labels)\n",
    "        if label != None:\n",
    "            break\n",
    "        k += 1\n",
    "        if k >= len(data):\n",
    "            break\n",
    "            \n",
    "    return label"
   ]
  },
  {
   "cell_type": "markdown",
   "id": "6310ad85",
   "metadata": {},
   "source": [
    "### Euclidean Mesafesi"
   ]
  },
  {
   "cell_type": "markdown",
   "id": "ff22d36b",
   "metadata": {},
   "source": [
    "her boyuttaki iki nokta arasındaki uzaklığın karelerinin toplamının karekökü."
   ]
  },
  {
   "cell_type": "markdown",
   "id": "64d6b766",
   "metadata": {},
   "source": [
    "=√((q_1-p_1 )^2  +〖(q_2-p_2)〗^2+⋯+ 〖(q_n-p_n)〗^2 )\n",
    "\n",
    "=√(∑_(i=1)^n▒〖(q_i-p_i)〗^2 )\n"
   ]
  },
  {
   "cell_type": "markdown",
   "id": "e6b7155a",
   "metadata": {},
   "source": [
    "Pisagor teoremi: a^2 + b^2 = c^2"
   ]
  },
  {
   "cell_type": "markdown",
   "id": "a0adf6c1",
   "metadata": {},
   "source": [
    "## KNN kullanarak etiketi tahmin edin"
   ]
  },
  {
   "cell_type": "code",
   "execution_count": 18,
   "id": "ad4cea36",
   "metadata": {},
   "outputs": [
    {
     "data": {
      "text/plain": [
       "'olumlu'"
      ]
     },
     "execution_count": 18,
     "metadata": {},
     "output_type": "execute_result"
    }
   ],
   "source": [
    "point = [75, 2.3]\n",
    "k_nearest_neighbor(point, X, Y, k=5)"
   ]
  },
  {
   "cell_type": "code",
   "execution_count": null,
   "id": "59d1fdf2",
   "metadata": {},
   "outputs": [],
   "source": []
  }
 ],
 "metadata": {
  "kernelspec": {
   "display_name": "Python 3 (ipykernel)",
   "language": "python",
   "name": "python3"
  },
  "language_info": {
   "codemirror_mode": {
    "name": "ipython",
    "version": 3
   },
   "file_extension": ".py",
   "mimetype": "text/x-python",
   "name": "python",
   "nbconvert_exporter": "python",
   "pygments_lexer": "ipython3",
   "version": "3.9.7"
  }
 },
 "nbformat": 4,
 "nbformat_minor": 5
}
